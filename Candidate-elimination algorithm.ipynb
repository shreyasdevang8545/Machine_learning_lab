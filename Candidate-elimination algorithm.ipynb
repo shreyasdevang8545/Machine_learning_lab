{
 "cells": [
  {
   "cell_type": "markdown",
   "metadata": {},
   "source": [
    "##  For a given set of training data examples stored in a .CSV file, implement and demonstrate the Candidate-Elimination algorithm to output a description of the set of all hypotheses consistent with the training examples. "
   ]
  },
  {
   "cell_type": "code",
   "execution_count": 1,
   "metadata": {},
   "outputs": [],
   "source": [
    "#importing required library files\n",
    "import pandas as pd \n",
    "import numpy as np\n",
    "\n",
    "#loading data set\n",
    "data = pd.read_csv('play.csv')\n",
    "\n",
    "#extracting the data as concept and target\n",
    "concept = np.array(data)[:,:-1] \n",
    "target = np.array(data)[:,-1] "
   ]
  },
  {
   "cell_type": "code",
   "execution_count": 2,
   "metadata": {},
   "outputs": [
    {
     "data": {
      "text/html": [
       "<div>\n",
       "<style scoped>\n",
       "    .dataframe tbody tr th:only-of-type {\n",
       "        vertical-align: middle;\n",
       "    }\n",
       "\n",
       "    .dataframe tbody tr th {\n",
       "        vertical-align: top;\n",
       "    }\n",
       "\n",
       "    .dataframe thead th {\n",
       "        text-align: right;\n",
       "    }\n",
       "</style>\n",
       "<table border=\"1\" class=\"dataframe\">\n",
       "  <thead>\n",
       "    <tr style=\"text-align: right;\">\n",
       "      <th></th>\n",
       "      <th>weather</th>\n",
       "      <th>temperature</th>\n",
       "      <th>humidity</th>\n",
       "      <th>wind</th>\n",
       "      <th>land</th>\n",
       "      <th>predata</th>\n",
       "      <th>play or not</th>\n",
       "    </tr>\n",
       "  </thead>\n",
       "  <tbody>\n",
       "    <tr>\n",
       "      <th>0</th>\n",
       "      <td>sunny</td>\n",
       "      <td>warm</td>\n",
       "      <td>normal</td>\n",
       "      <td>strong</td>\n",
       "      <td>warm</td>\n",
       "      <td>same</td>\n",
       "      <td>yes</td>\n",
       "    </tr>\n",
       "    <tr>\n",
       "      <th>1</th>\n",
       "      <td>sunny</td>\n",
       "      <td>warm</td>\n",
       "      <td>normal</td>\n",
       "      <td>weak</td>\n",
       "      <td>warm</td>\n",
       "      <td>same</td>\n",
       "      <td>yes</td>\n",
       "    </tr>\n",
       "    <tr>\n",
       "      <th>2</th>\n",
       "      <td>rainy</td>\n",
       "      <td>cool</td>\n",
       "      <td>high</td>\n",
       "      <td>strong</td>\n",
       "      <td>warm</td>\n",
       "      <td>change</td>\n",
       "      <td>no</td>\n",
       "    </tr>\n",
       "    <tr>\n",
       "      <th>3</th>\n",
       "      <td>sunny</td>\n",
       "      <td>warm</td>\n",
       "      <td>normal</td>\n",
       "      <td>weak</td>\n",
       "      <td>warm</td>\n",
       "      <td>change</td>\n",
       "      <td>yes</td>\n",
       "    </tr>\n",
       "  </tbody>\n",
       "</table>\n",
       "</div>"
      ],
      "text/plain": [
       "  weather temperature humidity    wind  land predata play or not\n",
       "0   sunny        warm   normal  strong  warm    same         yes\n",
       "1   sunny        warm   normal    weak  warm    same         yes\n",
       "2   rainy        cool     high  strong  warm  change          no\n",
       "3   sunny        warm   normal    weak  warm  change         yes"
      ]
     },
     "execution_count": 2,
     "metadata": {},
     "output_type": "execute_result"
    }
   ],
   "source": [
    "#viewing the data set\n",
    "data"
   ]
  },
  {
   "cell_type": "code",
   "execution_count": 3,
   "metadata": {},
   "outputs": [
    {
     "name": "stdout",
     "output_type": "stream",
     "text": [
      "Iteration[1]\n",
      "Specific: ['sunny' 'warm' 'normal' 'strong' 'warm' 'same']\n",
      "General: [['?', '?', '?', '?', '?', '?'], ['?', '?', '?', '?', '?', '?'], ['?', '?', '?', '?', '?', '?'], ['?', '?', '?', '?', '?', '?'], ['?', '?', '?', '?', '?', '?'], ['?', '?', '?', '?', '?', '?']]\n",
      "\n",
      "\n",
      "Iteration[2]\n",
      "Specific: ['sunny' 'warm' 'normal' '?' 'warm' 'same']\n",
      "General: [['?', '?', '?', '?', '?', '?'], ['?', '?', '?', '?', '?', '?'], ['?', '?', '?', '?', '?', '?'], ['?', '?', '?', '?', '?', '?'], ['?', '?', '?', '?', '?', '?'], ['?', '?', '?', '?', '?', '?']]\n",
      "\n",
      "\n",
      "Iteration[3]\n",
      "Specific: ['sunny' 'warm' 'normal' '?' 'warm' 'same']\n",
      "General: [['sunny', '?', '?', '?', '?', '?'], ['?', 'warm', '?', '?', '?', '?'], ['?', '?', 'normal', '?', '?', '?'], ['?', '?', '?', '?', '?', '?'], ['?', '?', '?', '?', '?', '?'], ['?', '?', '?', '?', '?', 'same']]\n",
      "\n",
      "\n",
      "Iteration[4]\n",
      "Specific: ['sunny' 'warm' 'normal' '?' 'warm' '?']\n",
      "General: [['sunny', '?', '?', '?', '?', '?'], ['?', 'warm', '?', '?', '?', '?'], ['?', '?', 'normal', '?', '?', '?'], ['?', '?', '?', '?', '?', '?'], ['?', '?', '?', '?', '?', '?'], ['?', '?', '?', '?', '?', '?']]\n",
      "\n",
      "\n",
      "--------Final hypothesis-------\n",
      "Specific hypothesis: ['sunny' 'warm' 'normal' '?' 'warm' '?']\n",
      "General hypothses: [['sunny', '?', '?', '?', '?', '?'], ['?', 'warm', '?', '?', '?', '?'], ['?', '?', 'normal', '?', '?', '?']]\n"
     ]
    }
   ],
   "source": [
    "#training the data set\n",
    "def train(con,tar):     \n",
    "    specific = con[0].copy()     \n",
    "    general=[['?' for x in range(len(specific))] \n",
    "             for x in range(len(specific))]     \n",
    "    for i,val in enumerate(con):         \n",
    "        if tar[i] == 'yes':             \n",
    "            for x in range(len(specific)):                 \n",
    "                if val[x] != specific[x]:                     \n",
    "                    specific[x] = '?'                     \n",
    "                    general[x][x] = '?'         \n",
    "        else:\n",
    "            for x in range(len(specific)):\n",
    "                if val[x] != specific[x]:\n",
    "                    general[x][x] = specific[x]                 \n",
    "                else:\n",
    "                    general[x][x]='?'         \n",
    "        print(\"Iteration[\"+ str(i+1) + \"]\")         \n",
    "        print(\"Specific: \"+str(specific))         \n",
    "        print(\"General: \"+str(general)+\"\\n\\n\")     \n",
    "    general =[general[i] for i,val in enumerate(general) if val != ['?' for x in range(len(specific))]]     \n",
    "    return specific, general  \n",
    "specific,general = train(concept,target) \n",
    "print(\"--------Final hypothesis-------\") \n",
    "print(\"Specific hypothesis: \" +str(specific)) \n",
    "print(\"General hypothses: \"+ str(general)) "
   ]
  },
  {
   "cell_type": "code",
   "execution_count": null,
   "metadata": {},
   "outputs": [],
   "source": []
  }
 ],
 "metadata": {
  "kernelspec": {
   "display_name": "Python 3",
   "language": "python",
   "name": "python3"
  },
  "language_info": {
   "codemirror_mode": {
    "name": "ipython",
    "version": 3
   },
   "file_extension": ".py",
   "mimetype": "text/x-python",
   "name": "python",
   "nbconvert_exporter": "python",
   "pygments_lexer": "ipython3",
   "version": "3.8.5"
  }
 },
 "nbformat": 4,
 "nbformat_minor": 4
}
